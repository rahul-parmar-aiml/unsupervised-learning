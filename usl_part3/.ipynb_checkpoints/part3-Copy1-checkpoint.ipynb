{
 "cells": [
  {
   "cell_type": "markdown",
   "metadata": {},
   "source": [
    "\n",
    "2. EDA and visualisation: Create a detailed performance report using univariate, bi-variate and multivariate EDA techniques. Find out all possible hidden\n",
    "patterns by using all possible methods.\n",
    "For example: Use your best analytical approach to build this report. Even you can mix match columns to create new columns which can be used\n",
    "for better analysis. Create your own features if required. Be highly experimental and analytical here to find hidden patterns.\n",
    "3. Classifier: Design and train a best fit SVM classier using all the data attributes.\n",
    "4. Dimensional reduction: perform dimensional reduction on the data.\n",
    "5. Classifier: Design and train a best fit SVM classier using dimensionally reduced attributes.\n",
    "6. Conclusion: Showcase key pointer on how dimensional reduction helped in this case."
   ]
  },
  {
   "cell_type": "markdown",
   "metadata": {},
   "source": [
    "1. Data: Import, clean and pre-process the data"
   ]
  },
  {
   "cell_type": "code",
   "execution_count": 1,
   "metadata": {},
   "outputs": [],
   "source": [
    "import pandas as pd\n",
    "import numpy as np\n",
    "import matplotlib.pyplot as plt\n",
    "import seaborn as sns\n",
    "from pandas_profiling import ProfileReport"
   ]
  },
  {
   "cell_type": "code",
   "execution_count": 2,
   "metadata": {},
   "outputs": [],
   "source": [
    "df = pd.read_csv('Part3 - vehicle.csv')"
   ]
  },
  {
   "cell_type": "code",
   "execution_count": 3,
   "metadata": {},
   "outputs": [
    {
     "data": {
      "text/html": [
       "<div>\n",
       "<style scoped>\n",
       "    .dataframe tbody tr th:only-of-type {\n",
       "        vertical-align: middle;\n",
       "    }\n",
       "\n",
       "    .dataframe tbody tr th {\n",
       "        vertical-align: top;\n",
       "    }\n",
       "\n",
       "    .dataframe thead th {\n",
       "        text-align: right;\n",
       "    }\n",
       "</style>\n",
       "<table border=\"1\" class=\"dataframe\">\n",
       "  <thead>\n",
       "    <tr style=\"text-align: right;\">\n",
       "      <th></th>\n",
       "      <th>compactness</th>\n",
       "      <th>circularity</th>\n",
       "      <th>distance_circularity</th>\n",
       "      <th>radius_ratio</th>\n",
       "      <th>pr.axis_aspect_ratio</th>\n",
       "      <th>max.length_aspect_ratio</th>\n",
       "      <th>scatter_ratio</th>\n",
       "      <th>elongatedness</th>\n",
       "      <th>pr.axis_rectangularity</th>\n",
       "      <th>max.length_rectangularity</th>\n",
       "      <th>scaled_variance</th>\n",
       "      <th>scaled_variance.1</th>\n",
       "      <th>scaled_radius_of_gyration</th>\n",
       "      <th>scaled_radius_of_gyration.1</th>\n",
       "      <th>skewness_about</th>\n",
       "      <th>skewness_about.1</th>\n",
       "      <th>skewness_about.2</th>\n",
       "      <th>hollows_ratio</th>\n",
       "      <th>class</th>\n",
       "    </tr>\n",
       "  </thead>\n",
       "  <tbody>\n",
       "    <tr>\n",
       "      <th>0</th>\n",
       "      <td>95</td>\n",
       "      <td>48.0</td>\n",
       "      <td>83.0</td>\n",
       "      <td>178.0</td>\n",
       "      <td>72.0</td>\n",
       "      <td>10</td>\n",
       "      <td>162.0</td>\n",
       "      <td>42.0</td>\n",
       "      <td>20.0</td>\n",
       "      <td>159</td>\n",
       "      <td>176.0</td>\n",
       "      <td>379.0</td>\n",
       "      <td>184.0</td>\n",
       "      <td>70.0</td>\n",
       "      <td>6.0</td>\n",
       "      <td>16.0</td>\n",
       "      <td>187.0</td>\n",
       "      <td>197</td>\n",
       "      <td>van</td>\n",
       "    </tr>\n",
       "    <tr>\n",
       "      <th>1</th>\n",
       "      <td>91</td>\n",
       "      <td>41.0</td>\n",
       "      <td>84.0</td>\n",
       "      <td>141.0</td>\n",
       "      <td>57.0</td>\n",
       "      <td>9</td>\n",
       "      <td>149.0</td>\n",
       "      <td>45.0</td>\n",
       "      <td>19.0</td>\n",
       "      <td>143</td>\n",
       "      <td>170.0</td>\n",
       "      <td>330.0</td>\n",
       "      <td>158.0</td>\n",
       "      <td>72.0</td>\n",
       "      <td>9.0</td>\n",
       "      <td>14.0</td>\n",
       "      <td>189.0</td>\n",
       "      <td>199</td>\n",
       "      <td>van</td>\n",
       "    </tr>\n",
       "    <tr>\n",
       "      <th>2</th>\n",
       "      <td>104</td>\n",
       "      <td>50.0</td>\n",
       "      <td>106.0</td>\n",
       "      <td>209.0</td>\n",
       "      <td>66.0</td>\n",
       "      <td>10</td>\n",
       "      <td>207.0</td>\n",
       "      <td>32.0</td>\n",
       "      <td>23.0</td>\n",
       "      <td>158</td>\n",
       "      <td>223.0</td>\n",
       "      <td>635.0</td>\n",
       "      <td>220.0</td>\n",
       "      <td>73.0</td>\n",
       "      <td>14.0</td>\n",
       "      <td>9.0</td>\n",
       "      <td>188.0</td>\n",
       "      <td>196</td>\n",
       "      <td>car</td>\n",
       "    </tr>\n",
       "    <tr>\n",
       "      <th>3</th>\n",
       "      <td>93</td>\n",
       "      <td>41.0</td>\n",
       "      <td>82.0</td>\n",
       "      <td>159.0</td>\n",
       "      <td>63.0</td>\n",
       "      <td>9</td>\n",
       "      <td>144.0</td>\n",
       "      <td>46.0</td>\n",
       "      <td>19.0</td>\n",
       "      <td>143</td>\n",
       "      <td>160.0</td>\n",
       "      <td>309.0</td>\n",
       "      <td>127.0</td>\n",
       "      <td>63.0</td>\n",
       "      <td>6.0</td>\n",
       "      <td>10.0</td>\n",
       "      <td>199.0</td>\n",
       "      <td>207</td>\n",
       "      <td>van</td>\n",
       "    </tr>\n",
       "    <tr>\n",
       "      <th>4</th>\n",
       "      <td>85</td>\n",
       "      <td>44.0</td>\n",
       "      <td>70.0</td>\n",
       "      <td>205.0</td>\n",
       "      <td>103.0</td>\n",
       "      <td>52</td>\n",
       "      <td>149.0</td>\n",
       "      <td>45.0</td>\n",
       "      <td>19.0</td>\n",
       "      <td>144</td>\n",
       "      <td>241.0</td>\n",
       "      <td>325.0</td>\n",
       "      <td>188.0</td>\n",
       "      <td>127.0</td>\n",
       "      <td>9.0</td>\n",
       "      <td>11.0</td>\n",
       "      <td>180.0</td>\n",
       "      <td>183</td>\n",
       "      <td>bus</td>\n",
       "    </tr>\n",
       "  </tbody>\n",
       "</table>\n",
       "</div>"
      ],
      "text/plain": [
       "   compactness  circularity  distance_circularity  radius_ratio  \\\n",
       "0           95         48.0                  83.0         178.0   \n",
       "1           91         41.0                  84.0         141.0   \n",
       "2          104         50.0                 106.0         209.0   \n",
       "3           93         41.0                  82.0         159.0   \n",
       "4           85         44.0                  70.0         205.0   \n",
       "\n",
       "   pr.axis_aspect_ratio  max.length_aspect_ratio  scatter_ratio  \\\n",
       "0                  72.0                       10          162.0   \n",
       "1                  57.0                        9          149.0   \n",
       "2                  66.0                       10          207.0   \n",
       "3                  63.0                        9          144.0   \n",
       "4                 103.0                       52          149.0   \n",
       "\n",
       "   elongatedness  pr.axis_rectangularity  max.length_rectangularity  \\\n",
       "0           42.0                    20.0                        159   \n",
       "1           45.0                    19.0                        143   \n",
       "2           32.0                    23.0                        158   \n",
       "3           46.0                    19.0                        143   \n",
       "4           45.0                    19.0                        144   \n",
       "\n",
       "   scaled_variance  scaled_variance.1  scaled_radius_of_gyration  \\\n",
       "0            176.0              379.0                      184.0   \n",
       "1            170.0              330.0                      158.0   \n",
       "2            223.0              635.0                      220.0   \n",
       "3            160.0              309.0                      127.0   \n",
       "4            241.0              325.0                      188.0   \n",
       "\n",
       "   scaled_radius_of_gyration.1  skewness_about  skewness_about.1  \\\n",
       "0                         70.0             6.0              16.0   \n",
       "1                         72.0             9.0              14.0   \n",
       "2                         73.0            14.0               9.0   \n",
       "3                         63.0             6.0              10.0   \n",
       "4                        127.0             9.0              11.0   \n",
       "\n",
       "   skewness_about.2  hollows_ratio class  \n",
       "0             187.0            197   van  \n",
       "1             189.0            199   van  \n",
       "2             188.0            196   car  \n",
       "3             199.0            207   van  \n",
       "4             180.0            183   bus  "
      ]
     },
     "execution_count": 3,
     "metadata": {},
     "output_type": "execute_result"
    }
   ],
   "source": [
    "df.head()"
   ]
  },
  {
   "cell_type": "code",
   "execution_count": 4,
   "metadata": {},
   "outputs": [
    {
     "name": "stdout",
     "output_type": "stream",
     "text": [
      "<class 'pandas.core.frame.DataFrame'>\n",
      "RangeIndex: 846 entries, 0 to 845\n",
      "Data columns (total 19 columns):\n",
      " #   Column                       Non-Null Count  Dtype  \n",
      "---  ------                       --------------  -----  \n",
      " 0   compactness                  846 non-null    int64  \n",
      " 1   circularity                  841 non-null    float64\n",
      " 2   distance_circularity         842 non-null    float64\n",
      " 3   radius_ratio                 840 non-null    float64\n",
      " 4   pr.axis_aspect_ratio         844 non-null    float64\n",
      " 5   max.length_aspect_ratio      846 non-null    int64  \n",
      " 6   scatter_ratio                845 non-null    float64\n",
      " 7   elongatedness                845 non-null    float64\n",
      " 8   pr.axis_rectangularity       843 non-null    float64\n",
      " 9   max.length_rectangularity    846 non-null    int64  \n",
      " 10  scaled_variance              843 non-null    float64\n",
      " 11  scaled_variance.1            844 non-null    float64\n",
      " 12  scaled_radius_of_gyration    844 non-null    float64\n",
      " 13  scaled_radius_of_gyration.1  842 non-null    float64\n",
      " 14  skewness_about               840 non-null    float64\n",
      " 15  skewness_about.1             845 non-null    float64\n",
      " 16  skewness_about.2             845 non-null    float64\n",
      " 17  hollows_ratio                846 non-null    int64  \n",
      " 18  class                        846 non-null    object \n",
      "dtypes: float64(14), int64(4), object(1)\n",
      "memory usage: 125.7+ KB\n"
     ]
    }
   ],
   "source": [
    "df.info()"
   ]
  },
  {
   "cell_type": "code",
   "execution_count": 5,
   "metadata": {},
   "outputs": [
    {
     "data": {
      "text/plain": [
       "(846, 19)"
      ]
     },
     "execution_count": 5,
     "metadata": {},
     "output_type": "execute_result"
    }
   ],
   "source": [
    "df.shape"
   ]
  },
  {
   "cell_type": "code",
   "execution_count": 6,
   "metadata": {},
   "outputs": [
    {
     "data": {
      "text/plain": [
       "compactness                    0\n",
       "circularity                    5\n",
       "distance_circularity           4\n",
       "radius_ratio                   6\n",
       "pr.axis_aspect_ratio           2\n",
       "max.length_aspect_ratio        0\n",
       "scatter_ratio                  1\n",
       "elongatedness                  1\n",
       "pr.axis_rectangularity         3\n",
       "max.length_rectangularity      0\n",
       "scaled_variance                3\n",
       "scaled_variance.1              2\n",
       "scaled_radius_of_gyration      2\n",
       "scaled_radius_of_gyration.1    4\n",
       "skewness_about                 6\n",
       "skewness_about.1               1\n",
       "skewness_about.2               1\n",
       "hollows_ratio                  0\n",
       "class                          0\n",
       "dtype: int64"
      ]
     },
     "execution_count": 6,
     "metadata": {},
     "output_type": "execute_result"
    }
   ],
   "source": [
    "df.isnull().sum()"
   ]
  },
  {
   "cell_type": "code",
   "execution_count": 7,
   "metadata": {},
   "outputs": [
    {
     "data": {
      "text/html": [
       "<div>\n",
       "<style scoped>\n",
       "    .dataframe tbody tr th:only-of-type {\n",
       "        vertical-align: middle;\n",
       "    }\n",
       "\n",
       "    .dataframe tbody tr th {\n",
       "        vertical-align: top;\n",
       "    }\n",
       "\n",
       "    .dataframe thead th {\n",
       "        text-align: right;\n",
       "    }\n",
       "</style>\n",
       "<table border=\"1\" class=\"dataframe\">\n",
       "  <thead>\n",
       "    <tr style=\"text-align: right;\">\n",
       "      <th></th>\n",
       "      <th>count</th>\n",
       "      <th>mean</th>\n",
       "      <th>std</th>\n",
       "      <th>min</th>\n",
       "      <th>25%</th>\n",
       "      <th>50%</th>\n",
       "      <th>75%</th>\n",
       "      <th>max</th>\n",
       "    </tr>\n",
       "  </thead>\n",
       "  <tbody>\n",
       "    <tr>\n",
       "      <th>compactness</th>\n",
       "      <td>846.0</td>\n",
       "      <td>93.678487</td>\n",
       "      <td>8.234474</td>\n",
       "      <td>73.0</td>\n",
       "      <td>87.00</td>\n",
       "      <td>93.0</td>\n",
       "      <td>100.0</td>\n",
       "      <td>119.0</td>\n",
       "    </tr>\n",
       "    <tr>\n",
       "      <th>circularity</th>\n",
       "      <td>841.0</td>\n",
       "      <td>44.828775</td>\n",
       "      <td>6.152172</td>\n",
       "      <td>33.0</td>\n",
       "      <td>40.00</td>\n",
       "      <td>44.0</td>\n",
       "      <td>49.0</td>\n",
       "      <td>59.0</td>\n",
       "    </tr>\n",
       "    <tr>\n",
       "      <th>distance_circularity</th>\n",
       "      <td>842.0</td>\n",
       "      <td>82.110451</td>\n",
       "      <td>15.778292</td>\n",
       "      <td>40.0</td>\n",
       "      <td>70.00</td>\n",
       "      <td>80.0</td>\n",
       "      <td>98.0</td>\n",
       "      <td>112.0</td>\n",
       "    </tr>\n",
       "    <tr>\n",
       "      <th>radius_ratio</th>\n",
       "      <td>840.0</td>\n",
       "      <td>168.888095</td>\n",
       "      <td>33.520198</td>\n",
       "      <td>104.0</td>\n",
       "      <td>141.00</td>\n",
       "      <td>167.0</td>\n",
       "      <td>195.0</td>\n",
       "      <td>333.0</td>\n",
       "    </tr>\n",
       "    <tr>\n",
       "      <th>pr.axis_aspect_ratio</th>\n",
       "      <td>844.0</td>\n",
       "      <td>61.678910</td>\n",
       "      <td>7.891463</td>\n",
       "      <td>47.0</td>\n",
       "      <td>57.00</td>\n",
       "      <td>61.0</td>\n",
       "      <td>65.0</td>\n",
       "      <td>138.0</td>\n",
       "    </tr>\n",
       "    <tr>\n",
       "      <th>max.length_aspect_ratio</th>\n",
       "      <td>846.0</td>\n",
       "      <td>8.567376</td>\n",
       "      <td>4.601217</td>\n",
       "      <td>2.0</td>\n",
       "      <td>7.00</td>\n",
       "      <td>8.0</td>\n",
       "      <td>10.0</td>\n",
       "      <td>55.0</td>\n",
       "    </tr>\n",
       "    <tr>\n",
       "      <th>scatter_ratio</th>\n",
       "      <td>845.0</td>\n",
       "      <td>168.901775</td>\n",
       "      <td>33.214848</td>\n",
       "      <td>112.0</td>\n",
       "      <td>147.00</td>\n",
       "      <td>157.0</td>\n",
       "      <td>198.0</td>\n",
       "      <td>265.0</td>\n",
       "    </tr>\n",
       "    <tr>\n",
       "      <th>elongatedness</th>\n",
       "      <td>845.0</td>\n",
       "      <td>40.933728</td>\n",
       "      <td>7.816186</td>\n",
       "      <td>26.0</td>\n",
       "      <td>33.00</td>\n",
       "      <td>43.0</td>\n",
       "      <td>46.0</td>\n",
       "      <td>61.0</td>\n",
       "    </tr>\n",
       "    <tr>\n",
       "      <th>pr.axis_rectangularity</th>\n",
       "      <td>843.0</td>\n",
       "      <td>20.582444</td>\n",
       "      <td>2.592933</td>\n",
       "      <td>17.0</td>\n",
       "      <td>19.00</td>\n",
       "      <td>20.0</td>\n",
       "      <td>23.0</td>\n",
       "      <td>29.0</td>\n",
       "    </tr>\n",
       "    <tr>\n",
       "      <th>max.length_rectangularity</th>\n",
       "      <td>846.0</td>\n",
       "      <td>147.998818</td>\n",
       "      <td>14.515652</td>\n",
       "      <td>118.0</td>\n",
       "      <td>137.00</td>\n",
       "      <td>146.0</td>\n",
       "      <td>159.0</td>\n",
       "      <td>188.0</td>\n",
       "    </tr>\n",
       "    <tr>\n",
       "      <th>scaled_variance</th>\n",
       "      <td>843.0</td>\n",
       "      <td>188.631079</td>\n",
       "      <td>31.411004</td>\n",
       "      <td>130.0</td>\n",
       "      <td>167.00</td>\n",
       "      <td>179.0</td>\n",
       "      <td>217.0</td>\n",
       "      <td>320.0</td>\n",
       "    </tr>\n",
       "    <tr>\n",
       "      <th>scaled_variance.1</th>\n",
       "      <td>844.0</td>\n",
       "      <td>439.494076</td>\n",
       "      <td>176.666903</td>\n",
       "      <td>184.0</td>\n",
       "      <td>318.00</td>\n",
       "      <td>363.5</td>\n",
       "      <td>587.0</td>\n",
       "      <td>1018.0</td>\n",
       "    </tr>\n",
       "    <tr>\n",
       "      <th>scaled_radius_of_gyration</th>\n",
       "      <td>844.0</td>\n",
       "      <td>174.709716</td>\n",
       "      <td>32.584808</td>\n",
       "      <td>109.0</td>\n",
       "      <td>149.00</td>\n",
       "      <td>173.5</td>\n",
       "      <td>198.0</td>\n",
       "      <td>268.0</td>\n",
       "    </tr>\n",
       "    <tr>\n",
       "      <th>scaled_radius_of_gyration.1</th>\n",
       "      <td>842.0</td>\n",
       "      <td>72.447743</td>\n",
       "      <td>7.486190</td>\n",
       "      <td>59.0</td>\n",
       "      <td>67.00</td>\n",
       "      <td>71.5</td>\n",
       "      <td>75.0</td>\n",
       "      <td>135.0</td>\n",
       "    </tr>\n",
       "    <tr>\n",
       "      <th>skewness_about</th>\n",
       "      <td>840.0</td>\n",
       "      <td>6.364286</td>\n",
       "      <td>4.920649</td>\n",
       "      <td>0.0</td>\n",
       "      <td>2.00</td>\n",
       "      <td>6.0</td>\n",
       "      <td>9.0</td>\n",
       "      <td>22.0</td>\n",
       "    </tr>\n",
       "    <tr>\n",
       "      <th>skewness_about.1</th>\n",
       "      <td>845.0</td>\n",
       "      <td>12.602367</td>\n",
       "      <td>8.936081</td>\n",
       "      <td>0.0</td>\n",
       "      <td>5.00</td>\n",
       "      <td>11.0</td>\n",
       "      <td>19.0</td>\n",
       "      <td>41.0</td>\n",
       "    </tr>\n",
       "    <tr>\n",
       "      <th>skewness_about.2</th>\n",
       "      <td>845.0</td>\n",
       "      <td>188.919527</td>\n",
       "      <td>6.155809</td>\n",
       "      <td>176.0</td>\n",
       "      <td>184.00</td>\n",
       "      <td>188.0</td>\n",
       "      <td>193.0</td>\n",
       "      <td>206.0</td>\n",
       "    </tr>\n",
       "    <tr>\n",
       "      <th>hollows_ratio</th>\n",
       "      <td>846.0</td>\n",
       "      <td>195.632388</td>\n",
       "      <td>7.438797</td>\n",
       "      <td>181.0</td>\n",
       "      <td>190.25</td>\n",
       "      <td>197.0</td>\n",
       "      <td>201.0</td>\n",
       "      <td>211.0</td>\n",
       "    </tr>\n",
       "  </tbody>\n",
       "</table>\n",
       "</div>"
      ],
      "text/plain": [
       "                             count        mean         std    min     25%  \\\n",
       "compactness                  846.0   93.678487    8.234474   73.0   87.00   \n",
       "circularity                  841.0   44.828775    6.152172   33.0   40.00   \n",
       "distance_circularity         842.0   82.110451   15.778292   40.0   70.00   \n",
       "radius_ratio                 840.0  168.888095   33.520198  104.0  141.00   \n",
       "pr.axis_aspect_ratio         844.0   61.678910    7.891463   47.0   57.00   \n",
       "max.length_aspect_ratio      846.0    8.567376    4.601217    2.0    7.00   \n",
       "scatter_ratio                845.0  168.901775   33.214848  112.0  147.00   \n",
       "elongatedness                845.0   40.933728    7.816186   26.0   33.00   \n",
       "pr.axis_rectangularity       843.0   20.582444    2.592933   17.0   19.00   \n",
       "max.length_rectangularity    846.0  147.998818   14.515652  118.0  137.00   \n",
       "scaled_variance              843.0  188.631079   31.411004  130.0  167.00   \n",
       "scaled_variance.1            844.0  439.494076  176.666903  184.0  318.00   \n",
       "scaled_radius_of_gyration    844.0  174.709716   32.584808  109.0  149.00   \n",
       "scaled_radius_of_gyration.1  842.0   72.447743    7.486190   59.0   67.00   \n",
       "skewness_about               840.0    6.364286    4.920649    0.0    2.00   \n",
       "skewness_about.1             845.0   12.602367    8.936081    0.0    5.00   \n",
       "skewness_about.2             845.0  188.919527    6.155809  176.0  184.00   \n",
       "hollows_ratio                846.0  195.632388    7.438797  181.0  190.25   \n",
       "\n",
       "                               50%    75%     max  \n",
       "compactness                   93.0  100.0   119.0  \n",
       "circularity                   44.0   49.0    59.0  \n",
       "distance_circularity          80.0   98.0   112.0  \n",
       "radius_ratio                 167.0  195.0   333.0  \n",
       "pr.axis_aspect_ratio          61.0   65.0   138.0  \n",
       "max.length_aspect_ratio        8.0   10.0    55.0  \n",
       "scatter_ratio                157.0  198.0   265.0  \n",
       "elongatedness                 43.0   46.0    61.0  \n",
       "pr.axis_rectangularity        20.0   23.0    29.0  \n",
       "max.length_rectangularity    146.0  159.0   188.0  \n",
       "scaled_variance              179.0  217.0   320.0  \n",
       "scaled_variance.1            363.5  587.0  1018.0  \n",
       "scaled_radius_of_gyration    173.5  198.0   268.0  \n",
       "scaled_radius_of_gyration.1   71.5   75.0   135.0  \n",
       "skewness_about                 6.0    9.0    22.0  \n",
       "skewness_about.1              11.0   19.0    41.0  \n",
       "skewness_about.2             188.0  193.0   206.0  \n",
       "hollows_ratio                197.0  201.0   211.0  "
      ]
     },
     "execution_count": 7,
     "metadata": {},
     "output_type": "execute_result"
    }
   ],
   "source": [
    "df.describe().T"
   ]
  },
  {
   "cell_type": "code",
   "execution_count": 8,
   "metadata": {},
   "outputs": [
    {
     "data": {
      "text/plain": [
       "0"
      ]
     },
     "execution_count": 8,
     "metadata": {},
     "output_type": "execute_result"
    }
   ],
   "source": [
    "df.duplicated().sum()"
   ]
  },
  {
   "cell_type": "code",
   "execution_count": 9,
   "metadata": {},
   "outputs": [],
   "source": [
    "# pdescribeile = ProfileReport(df, title='Pandas Profiling Report', explorative=True)\n",
    "# profile.to_file(\"part1_eda.html\")"
   ]
  },
  {
   "cell_type": "code",
   "execution_count": 10,
   "metadata": {},
   "outputs": [],
   "source": [
    "# defining a function to automate univariate numerical analysis\n",
    "\n",
    "def univariateAnalysis_numeric(column,nbins):\n",
    "    print(\"Description of \" + column)\n",
    "    print(\"----------------------------------------------------------------------------\")\n",
    "    print(df[column].describe(),end=' ')\n",
    "    \n",
    "    \n",
    "    plt.figure()\n",
    "    print(\"Distribution of \" + column)\n",
    "    print(\"----------------------------------------------------------------------------\")\n",
    "    sns.displot(df[column], kind='hist', color='g');\n",
    "    plt.show()\n",
    "\n",
    "    plt.figure()\n",
    "    print(\"KDE of \" + column)\n",
    "    print(\"----------------------------------------------------------------------------\")\n",
    "    sns.kdeplot(df[column], color='g', fill=True);\n",
    "    plt.show()\n",
    "    \n",
    "    plt.figure()\n",
    "    print(\"BoxPlot of \" + column)\n",
    "    print(\"----------------------------------------------------------------------------\")\n",
    "    ax = sns.boxplot(x=df[column], color='g')\n",
    "    plt.show()\n",
    "    \n",
    "    print(\"============================================================================\")\n"
   ]
  },
  {
   "cell_type": "code",
   "execution_count": 11,
   "metadata": {},
   "outputs": [],
   "source": [
    "# creating a function to automate outlier treatment\n",
    "\n",
    "def treat_outlier(x):\n",
    "    # taking 5,25,75 percentile of column\n",
    "    q5= np.percentile(x,5)\n",
    "    q25=np.percentile(x,25)\n",
    "    q75=np.percentile(x,75)\n",
    "    dt=np.percentile(x,95)\n",
    "    #calculationg IQR range\n",
    "    IQR=q75-q25\n",
    "    #Calculating minimum threshold\n",
    "    lower_bound=q25-(1.5*IQR)\n",
    "    upper_bound=q75+(1.5*IQR)\n",
    "    #Capping outliers\n",
    "    return x.apply(lambda y: dt if y > upper_bound else y).apply(lambda y: q5 if y < lower_bound else y)"
   ]
  },
  {
   "cell_type": "code",
   "execution_count": 12,
   "metadata": {},
   "outputs": [
    {
     "name": "stdout",
     "output_type": "stream",
     "text": [
      "<class 'pandas.core.frame.DataFrame'>\n",
      "RangeIndex: 846 entries, 0 to 845\n",
      "Data columns (total 19 columns):\n",
      " #   Column                       Non-Null Count  Dtype  \n",
      "---  ------                       --------------  -----  \n",
      " 0   compactness                  846 non-null    int64  \n",
      " 1   circularity                  841 non-null    float64\n",
      " 2   distance_circularity         842 non-null    float64\n",
      " 3   radius_ratio                 840 non-null    float64\n",
      " 4   pr.axis_aspect_ratio         844 non-null    float64\n",
      " 5   max.length_aspect_ratio      846 non-null    int64  \n",
      " 6   scatter_ratio                845 non-null    float64\n",
      " 7   elongatedness                845 non-null    float64\n",
      " 8   pr.axis_rectangularity       843 non-null    float64\n",
      " 9   max.length_rectangularity    846 non-null    int64  \n",
      " 10  scaled_variance              843 non-null    float64\n",
      " 11  scaled_variance.1            844 non-null    float64\n",
      " 12  scaled_radius_of_gyration    844 non-null    float64\n",
      " 13  scaled_radius_of_gyration.1  842 non-null    float64\n",
      " 14  skewness_about               840 non-null    float64\n",
      " 15  skewness_about.1             845 non-null    float64\n",
      " 16  skewness_about.2             845 non-null    float64\n",
      " 17  hollows_ratio                846 non-null    int64  \n",
      " 18  class                        846 non-null    object \n",
      "dtypes: float64(14), int64(4), object(1)\n",
      "memory usage: 125.7+ KB\n"
     ]
    }
   ],
   "source": [
    "df.info()"
   ]
  },
  {
   "cell_type": "code",
   "execution_count": 13,
   "metadata": {},
   "outputs": [
    {
     "name": "stdout",
     "output_type": "stream",
     "text": [
      "Description of compactness\n",
      "----------------------------------------------------------------------------\n",
      "count    846.000000\n",
      "mean      93.678487\n",
      "std        8.234474\n",
      "min       73.000000\n",
      "25%       87.000000\n",
      "50%       93.000000\n",
      "75%      100.000000\n",
      "max      119.000000\n",
      "Name: compactness, dtype: float64 Distribution of compactness\n",
      "----------------------------------------------------------------------------\n"
     ]
    },
    {
     "data": {
      "text/plain": [
       "<Figure size 432x288 with 0 Axes>"
      ]
     },
     "metadata": {},
     "output_type": "display_data"
    },
    {
     "data": {
      "image/png": "[encoded data removed]",
      "text/plain": [
       "<Figure size 360x360 with 1 Axes>"
      ]
     },
     "metadata": {
      "needs_background": "light"
     },
     "output_type": "display_data"
    },
    {
     "name": "stdout",
     "output_type": "stream",
     "text": [
      "KDE of compactness\n",
      "----------------------------------------------------------------------------\n"
     ]
    },
    {
     "data": {
      "image/png": "[encoded data removed]",
      "text/plain": [
       "<Figure size 432x288 with 1 Axes>"
      ]
     },
     "metadata": {
      "needs_background": "light"
     },
     "output_type": "display_data"
    },
    {
     "name": "stdout",
     "output_type": "stream",
     "text": [
      "BoxPlot of compactness\n",
      "----------------------------------------------------------------------------\n"
     ]
    },
    {
     "data": {
      "image/png": "[encoded data removed]",
      "text/plain": [
       "<Figure size 432x288 with 1 Axes>"
      ]
     },
     "metadata": {
      "needs_background": "light"
     },
     "output_type": "display_data"
    },
    {
     "name": "stdout",
     "output_type": "stream",
     "text": [
      "============================================================================\n"
     ]
    }
   ],
   "source": [
    "univariateAnalysis_numeric(\"compactness\",20)"
   ]
  },
  {
   "cell_type": "code",
   "execution_count": 14,
   "metadata": {},
   "outputs": [
    {
     "name": "stdout",
     "output_type": "stream",
     "text": [
      "Description of circularity\n",
      "----------------------------------------------------------------------------\n",
      "count    841.000000\n",
      "mean      44.828775\n",
      "std        6.152172\n",
      "min       33.000000\n",
      "25%       40.000000\n",
      "50%       44.000000\n",
      "75%       49.000000\n",
      "max       59.000000\n",
      "Name: circularity, dtype: float64 Distribution of circularity\n",
      "----------------------------------------------------------------------------\n"
     ]
    },
    {
     "data": {
      "text/plain": [
       "<Figure size 432x288 with 0 Axes>"
      ]
     },
     "metadata": {},
     "output_type": "display_data"
    },
    {
     "data": {
      "image/png": "[encoded data removed]",
      "text/plain": [
       "<Figure size 360x360 with 1 Axes>"
      ]
     },
     "metadata": {
      "needs_background": "light"
     },
     "output_type": "display_data"
    },
    {
     "name": "stdout",
     "output_type": "stream",
     "text": [
      "KDE of circularity\n",
      "----------------------------------------------------------------------------\n"
     ]
    },
    {
     "data": {
      "image/png": "[encoded data removed]",
      "text/plain": [
       "<Figure size 432x288 with 1 Axes>"
      ]
     },
     "metadata": {
      "needs_background": "light"
     },
     "output_type": "display_data"
    },
    {
     "name": "stdout",
     "output_type": "stream",
     "text": [
      "BoxPlot of circularity\n",
      "----------------------------------------------------------------------------\n"
     ]
    },
    {
     "data": {
      "image/png": "[encoded data removed]",
      "text/plain": [
       "<Figure size 432x288 with 1 Axes>"
      ]
     },
     "metadata": {
      "needs_background": "light"
     },
     "output_type": "display_data"
    },
    {
     "name": "stdout",
     "output_type": "stream",
     "text": [
      "============================================================================\n"
     ]
    }
   ],
   "source": [
    "univariateAnalysis_numeric(\"circularity\",20)"
   ]
  },
  {
   "cell_type": "code",
   "execution_count": 15,
   "metadata": {},
   "outputs": [
    {
     "data": {
      "text/plain": [
       "0"
      ]
     },
     "execution_count": 15,
     "metadata": {},
     "output_type": "execute_result"
    }
   ],
   "source": [
    "df[\"circularity\"].fillna(df[\"circularity\"].mean(), inplace=True)\n",
    "df[\"circularity\"].isnull().sum()"
   ]
  },
  {
   "cell_type": "code",
   "execution_count": 16,
   "metadata": {},
   "outputs": [
    {
     "name": "stdout",
     "output_type": "stream",
     "text": [
      "<class 'pandas.core.frame.DataFrame'>\n",
      "RangeIndex: 846 entries, 0 to 845\n",
      "Data columns (total 19 columns):\n",
      " #   Column                       Non-Null Count  Dtype  \n",
      "---  ------                       --------------  -----  \n",
      " 0   compactness                  846 non-null    int64  \n",
      " 1   circularity                  846 non-null    float64\n",
      " 2   distance_circularity         842 non-null    float64\n",
      " 3   radius_ratio                 840 non-null    float64\n",
      " 4   pr.axis_aspect_ratio         844 non-null    float64\n",
      " 5   max.length_aspect_ratio      846 non-null    int64  \n",
      " 6   scatter_ratio                845 non-null    float64\n",
      " 7   elongatedness                845 non-null    float64\n",
      " 8   pr.axis_rectangularity       843 non-null    float64\n",
      " 9   max.length_rectangularity    846 non-null    int64  \n",
      " 10  scaled_variance              843 non-null    float64\n",
      " 11  scaled_variance.1            844 non-null    float64\n",
      " 12  scaled_radius_of_gyration    844 non-null    float64\n",
      " 13  scaled_radius_of_gyration.1  842 non-null    float64\n",
      " 14  skewness_about               840 non-null    float64\n",
      " 15  skewness_about.1             845 non-null    float64\n",
      " 16  skewness_about.2             845 non-null    float64\n",
      " 17  hollows_ratio                846 non-null    int64  \n",
      " 18  class                        846 non-null    object \n",
      "dtypes: float64(14), int64(4), object(1)\n",
      "memory usage: 125.7+ KB\n"
     ]
    }
   ],
   "source": [
    "df.info()"
   ]
  },
  {
   "cell_type": "code",
   "execution_count": 17,
   "metadata": {},
   "outputs": [
    {
     "name": "stdout",
     "output_type": "stream",
     "text": [
      "Description of distance_circularity\n",
      "----------------------------------------------------------------------------\n",
      "count    842.000000\n",
      "mean      82.110451\n",
      "std       15.778292\n",
      "min       40.000000\n",
      "25%       70.000000\n",
      "50%       80.000000\n",
      "75%       98.000000\n",
      "max      112.000000\n",
      "Name: distance_circularity, dtype: float64 Distribution of distance_circularity\n",
      "----------------------------------------------------------------------------\n"
     ]
    },
    {
     "data": {
      "text/plain": [
       "<Figure size 432x288 with 0 Axes>"
      ]
     },
     "metadata": {},
     "output_type": "display_data"
    },
    {
     "data": {
      "image/png": "[encoded data removed]",
      "text/plain": [
       "<Figure size 360x360 with 1 Axes>"
      ]
     },
     "metadata": {
      "needs_background": "light"
     },
     "output_type": "display_data"
    },
    {
     "name": "stdout",
     "output_type": "stream",
     "text": [
      "KDE of distance_circularity\n",
      "----------------------------------------------------------------------------\n"
     ]
    },
    {
     "data": {
      "image/png": "[encoded data removed]",
      "text/plain": [
       "<Figure size 432x288 with 1 Axes>"
      ]
     },
     "metadata": {
      "needs_background": "light"
     },
     "output_type": "display_data"
    },
    {
     "name": "stdout",
     "output_type": "stream",
     "text": [
      "BoxPlot of distance_circularity\n",
      "----------------------------------------------------------------------------\n"
     ]
    },
    {
     "data": {
      "image/png": "[encoded data removed]",
      "text/plain": [
       "<Figure size 432x288 with 1 Axes>"
      ]
     },
     "metadata": {
      "needs_background": "light"
     },
     "output_type": "display_data"
    },
    {
     "name": "stdout",
     "output_type": "stream",
     "text": [
      "============================================================================\n"
     ]
    }
   ],
   "source": [
    "univariateAnalysis_numeric(\"distance_circularity\",20)"
   ]
  },
  {
   "cell_type": "code",
   "execution_count": 18,
   "metadata": {},
   "outputs": [
    {
     "data": {
      "text/plain": [
       "0"
      ]
     },
     "execution_count": 18,
     "metadata": {},
     "output_type": "execute_result"
    }
   ],
   "source": [
    "df[\"distance_circularity\"].fillna(df[\"distance_circularity\"].mean(), inplace=True)\n",
    "df[\"distance_circularity\"].isnull().sum()"
   ]
  },
  {
   "cell_type": "code",
   "execution_count": 19,
   "metadata": {},
   "outputs": [
    {
     "name": "stdout",
     "output_type": "stream",
     "text": [
      "<class 'pandas.core.frame.DataFrame'>\n",
      "RangeIndex: 846 entries, 0 to 845\n",
      "Data columns (total 19 columns):\n",
      " #   Column                       Non-Null Count  Dtype  \n",
      "---  ------                       --------------  -----  \n",
      " 0   compactness                  846 non-null    int64  \n",
      " 1   circularity                  846 non-null    float64\n",
      " 2   distance_circularity         846 non-null    float64\n",
      " 3   radius_ratio                 840 non-null    float64\n",
      " 4   pr.axis_aspect_ratio         844 non-null    float64\n",
      " 5   max.length_aspect_ratio      846 non-null    int64  \n",
      " 6   scatter_ratio                845 non-null    float64\n",
      " 7   elongatedness                845 non-null    float64\n",
      " 8   pr.axis_rectangularity       843 non-null    float64\n",
      " 9   max.length_rectangularity    846 non-null    int64  \n",
      " 10  scaled_variance              843 non-null    float64\n",
      " 11  scaled_variance.1            844 non-null    float64\n",
      " 12  scaled_radius_of_gyration    844 non-null    float64\n",
      " 13  scaled_radius_of_gyration.1  842 non-null    float64\n",
      " 14  skewness_about               840 non-null    float64\n",
      " 15  skewness_about.1             845 non-null    float64\n",
      " 16  skewness_about.2             845 non-null    float64\n",
      " 17  hollows_ratio                846 non-null    int64  \n",
      " 18  class                        846 non-null    object \n",
      "dtypes: float64(14), int64(4), object(1)\n",
      "memory usage: 125.7+ KB\n"
     ]
    }
   ],
   "source": [
    "df.info()"
   ]
  },
  {
   "cell_type": "code",
   "execution_count": 20,
   "metadata": {},
   "outputs": [
    {
     "name": "stdout",
     "output_type": "stream",
     "text": [
      "Description of radius_ratio\n",
      "----------------------------------------------------------------------------\n",
      "count    840.000000\n",
      "mean     168.888095\n",
      "std       33.520198\n",
      "min      104.000000\n",
      "25%      141.000000\n",
      "50%      167.000000\n",
      "75%      195.000000\n",
      "max      333.000000\n",
      "Name: radius_ratio, dtype: float64 Distribution of radius_ratio\n",
      "----------------------------------------------------------------------------\n"
     ]
    },
    {
     "data": {
      "text/plain": [
       "<Figure size 432x288 with 0 Axes>"
      ]
     },
     "metadata": {},
     "output_type": "display_data"
    },
    {
     "data": {
      "image/png": "[encoded data removed]",
      "text/plain": [
       "<Figure size 360x360 with 1 Axes>"
      ]
     },
     "metadata": {
      "needs_background": "light"
     },
     "output_type": "display_data"
    },
    {
     "name": "stdout",
     "output_type": "stream",
     "text": [
      "KDE of radius_ratio\n",
      "----------------------------------------------------------------------------\n"
     ]
    },
    {
     "data": {
      "image/png": "[encoded data removed]",
      "text/plain": [
       "<Figure size 432x288 with 1 Axes>"
      ]
     },
     "metadata": {
      "needs_background": "light"
     },
     "output_type": "display_data"
    },
    {
     "name": "stdout",
     "output_type": "stream",
     "text": [
      "BoxPlot of radius_ratio\n",
      "----------------------------------------------------------------------------\n"
     ]
    },
    {
     "data": {
      "image/png": "[encoded data removed]",
      "text/plain": [
       "<Figure size 432x288 with 1 Axes>"
      ]
     },
     "metadata": {
      "needs_background": "light"
     },
     "output_type": "display_data"
    },
    {
     "name": "stdout",
     "output_type": "stream",
     "text": [
      "============================================================================\n"
     ]
    }
   ],
   "source": [
    "univariateAnalysis_numeric(\"radius_ratio\", 20)"
   ]
  },
  {
   "cell_type": "code",
   "execution_count": 21,
   "metadata": {},
   "outputs": [
    {
     "data": {
      "text/plain": [
       "0"
      ]
     },
     "execution_count": 21,
     "metadata": {},
     "output_type": "execute_result"
    }
   ],
   "source": [
    "df[\"radius_ratio\"].fillna(df[\"radius_ratio\"].mean(), inplace=True)\n",
    "df[\"radius_ratio\"].isnull().sum()"
   ]
  },
  {
   "cell_type": "code",
   "execution_count": 22,
   "metadata": {},
   "outputs": [
    {
     "name": "stdout",
     "output_type": "stream",
     "text": [
      "<class 'pandas.core.frame.DataFrame'>\n",
      "RangeIndex: 846 entries, 0 to 845\n",
      "Data columns (total 19 columns):\n",
      " #   Column                       Non-Null Count  Dtype  \n",
      "---  ------                       --------------  -----  \n",
      " 0   compactness                  846 non-null    int64  \n",
      " 1   circularity                  846 non-null    float64\n",
      " 2   distance_circularity         846 non-null    float64\n",
      " 3   radius_ratio                 846 non-null    float64\n",
      " 4   pr.axis_aspect_ratio         844 non-null    float64\n",
      " 5   max.length_aspect_ratio      846 non-null    int64  \n",
      " 6   scatter_ratio                845 non-null    float64\n",
      " 7   elongatedness                845 non-null    float64\n",
      " 8   pr.axis_rectangularity       843 non-null    float64\n",
      " 9   max.length_rectangularity    846 non-null    int64  \n",
      " 10  scaled_variance              843 non-null    float64\n",
      " 11  scaled_variance.1            844 non-null    float64\n",
      " 12  scaled_radius_of_gyration    844 non-null    float64\n",
      " 13  scaled_radius_of_gyration.1  842 non-null    float64\n",
      " 14  skewness_about               840 non-null    float64\n",
      " 15  skewness_about.1             845 non-null    float64\n",
      " 16  skewness_about.2             845 non-null    float64\n",
      " 17  hollows_ratio                846 non-null    int64  \n",
      " 18  class                        846 non-null    object \n",
      "dtypes: float64(14), int64(4), object(1)\n",
      "memory usage: 125.7+ KB\n"
     ]
    }
   ],
   "source": [
    "df.info()"
   ]
  },
  {
   "cell_type": "code",
   "execution_count": 23,
   "metadata": {},
   "outputs": [
    {
     "data": {
      "text/plain": [
       "compactness                    0\n",
       "circularity                    0\n",
       "distance_circularity           0\n",
       "radius_ratio                   0\n",
       "pr.axis_aspect_ratio           2\n",
       "max.length_aspect_ratio        0\n",
       "scatter_ratio                  1\n",
       "elongatedness                  1\n",
       "pr.axis_rectangularity         3\n",
       "max.length_rectangularity      0\n",
       "scaled_variance                3\n",
       "scaled_variance.1              2\n",
       "scaled_radius_of_gyration      2\n",
       "scaled_radius_of_gyration.1    4\n",
       "skewness_about                 6\n",
       "skewness_about.1               1\n",
       "skewness_about.2               1\n",
       "hollows_ratio                  0\n",
       "class                          0\n",
       "dtype: int64"
      ]
     },
     "execution_count": 23,
     "metadata": {},
     "output_type": "execute_result"
    }
   ],
   "source": [
    "df.isnull().sum()"
   ]
  },
  {
   "cell_type": "code",
   "execution_count": 24,
   "metadata": {},
   "outputs": [
    {
     "name": "stdout",
     "output_type": "stream",
     "text": [
      "Description of pr.axis_aspect_ratio\n",
      "----------------------------------------------------------------------------\n",
      "count    844.000000\n",
      "mean      61.678910\n",
      "std        7.891463\n",
      "min       47.000000\n",
      "25%       57.000000\n",
      "50%       61.000000\n",
      "75%       65.000000\n",
      "max      138.000000\n",
      "Name: pr.axis_aspect_ratio, dtype: float64 Distribution of pr.axis_aspect_ratio\n",
      "----------------------------------------------------------------------------\n"
     ]
    },
    {
     "data": {
      "text/plain": [
       "<Figure size 432x288 with 0 Axes>"
      ]
     },
     "metadata": {},
     "output_type": "display_data"
    },
    {
     "data": {
      "image/png": "[encoded data removed]",
      "text/plain": [
       "<Figure size 360x360 with 1 Axes>"
      ]
     },
     "metadata": {
      "needs_background": "light"
     },
     "output_type": "display_data"
    },
    {
     "name": "stdout",
     "output_type": "stream",
     "text": [
      "KDE of pr.axis_aspect_ratio\n",
      "----------------------------------------------------------------------------\n"
     ]
    },
    {
     "data": {
      "image/png": "[encoded data removed]",
      "text/plain": [
       "<Figure size 432x288 with 1 Axes>"
      ]
     },
     "metadata": {
      "needs_background": "light"
     },
     "output_type": "display_data"
    },
    {
     "name": "stdout",
     "output_type": "stream",
     "text": [
      "BoxPlot of pr.axis_aspect_ratio\n",
      "----------------------------------------------------------------------------\n"
     ]
    },
    {
     "data": {
      "image/png": "[encoded data removed]",
      "text/plain": [
       "<Figure size 432x288 with 1 Axes>"
      ]
     },
     "metadata": {
      "needs_background": "light"
     },
     "output_type": "display_data"
    },
    {
     "name": "stdout",
     "output_type": "stream",
     "text": [
      "============================================================================\n"
     ]
    }
   ],
   "source": [
    "univariateAnalysis_numeric(\"pr.axis_aspect_ratio\", 20)"
   ]
  },
  {
   "cell_type": "code",
   "execution_count": 26,
   "metadata": {},
   "outputs": [
    {
     "data": {
      "text/plain": [
       "0"
      ]
     },
     "execution_count": 26,
     "metadata": {},
     "output_type": "execute_result"
    }
   ],
   "source": [
    "df[\"pr.axis_aspect_ratio\"].fillna(df[\"pr.axis_aspect_ratio\"].median(), inplace=True)\n",
    "df[\"pr.axis_aspect_ratio\"].isnull().sum()"
   ]
  },
  {
   "cell_type": "code",
   "execution_count": 27,
   "metadata": {},
   "outputs": [
    {
     "name": "stdout",
     "output_type": "stream",
     "text": [
      "<class 'pandas.core.frame.DataFrame'>\n",
      "RangeIndex: 846 entries, 0 to 845\n",
      "Data columns (total 19 columns):\n",
      " #   Column                       Non-Null Count  Dtype  \n",
      "---  ------                       --------------  -----  \n",
      " 0   compactness                  846 non-null    int64  \n",
      " 1   circularity                  846 non-null    float64\n",
      " 2   distance_circularity         846 non-null    float64\n",
      " 3   radius_ratio                 846 non-null    float64\n",
      " 4   pr.axis_aspect_ratio         846 non-null    float64\n",
      " 5   max.length_aspect_ratio      846 non-null    int64  \n",
      " 6   scatter_ratio                845 non-null    float64\n",
      " 7   elongatedness                845 non-null    float64\n",
      " 8   pr.axis_rectangularity       843 non-null    float64\n",
      " 9   max.length_rectangularity    846 non-null    int64  \n",
      " 10  scaled_variance              843 non-null    float64\n",
      " 11  scaled_variance.1            844 non-null    float64\n",
      " 12  scaled_radius_of_gyration    844 non-null    float64\n",
      " 13  scaled_radius_of_gyration.1  842 non-null    float64\n",
      " 14  skewness_about               840 non-null    float64\n",
      " 15  skewness_about.1             845 non-null    float64\n",
      " 16  skewness_about.2             845 non-null    float64\n",
      " 17  hollows_ratio                846 non-null    int64  \n",
      " 18  class                        846 non-null    object \n",
      "dtypes: float64(14), int64(4), object(1)\n",
      "memory usage: 125.7+ KB\n"
     ]
    }
   ],
   "source": [
    "df.info()"
   ]
  },
  {
   "cell_type": "code",
   "execution_count": 28,
   "metadata": {},
   "outputs": [
    {
     "name": "stdout",
     "output_type": "stream",
     "text": [
      "Description of max.length_aspect_ratio\n",
      "----------------------------------------------------------------------------\n",
      "count    846.000000\n",
      "mean       8.567376\n",
      "std        4.601217\n",
      "min        2.000000\n",
      "25%        7.000000\n",
      "50%        8.000000\n",
      "75%       10.000000\n",
      "max       55.000000\n",
      "Name: max.length_aspect_ratio, dtype: float64 Distribution of max.length_aspect_ratio\n",
      "----------------------------------------------------------------------------\n"
     ]
    },
    {
     "data": {
      "text/plain": [
       "<Figure size 432x288 with 0 Axes>"
      ]
     },
     "metadata": {},
     "output_type": "display_data"
    },
    {
     "data": {
      "image/png": "[encoded data removed]",
      "text/plain": [
       "<Figure size 360x360 with 1 Axes>"
      ]
     },
     "metadata": {
      "needs_background": "light"
     },
     "output_type": "display_data"
    },
    {
     "name": "stdout",
     "output_type": "stream",
     "text": [
      "KDE of max.length_aspect_ratio\n",
      "----------------------------------------------------------------------------\n"
     ]
    },
    {
     "data": {
      "image/png": "[encoded data removed]",
      "text/plain": [
       "<Figure size 432x288 with 1 Axes>"
      ]
     },
     "metadata": {
      "needs_background": "light"
     },
     "output_type": "display_data"
    },
    {
     "name": "stdout",
     "output_type": "stream",
     "text": [
      "BoxPlot of max.length_aspect_ratio\n",
      "----------------------------------------------------------------------------\n"
     ]
    },
    {
     "data": {
      "image/png": "[encoded data removed]",
      "text/plain": [
       "<Figure size 432x288 with 1 Axes>"
      ]
     },
     "metadata": {
      "needs_background": "light"
     },
     "output_type": "display_data"
    },
    {
     "name": "stdout",
     "output_type": "stream",
     "text": [
      "============================================================================\n"
     ]
    }
   ],
   "source": [
    "univariateAnalysis_numeric(\"max.length_aspect_ratio\", 20)"
   ]
  },
  {
   "cell_type": "code",
   "execution_count": null,
   "metadata": {},
   "outputs": [],
   "source": [
    "df[\"radius_ratio\"] = treat_outlier(df[\"max.length_aspect_ratio\"])\n",
    "univariateAnalysis_numeric(\"radius_ratio\", 20)"
   ]
  },
  {
   "cell_type": "code",
   "execution_count": null,
   "metadata": {},
   "outputs": [],
   "source": [
    "df[\"radius_ratio\"] = treat_outlier(df[\"radius_ratio\"])\n",
    "univariateAnalysis_numeric(\"radius_ratio\", 20)"
   ]
  },
  {
   "cell_type": "code",
   "execution_count": null,
   "metadata": {},
   "outputs": [],
   "source": [
    "univariateAnalysis_numeric(\"max.length_aspect_ratio\", 20)"
   ]
  },
  {
   "cell_type": "code",
   "execution_count": null,
   "metadata": {},
   "outputs": [],
   "source": [
    "df[\"pr.axis_aspect_ratio\"].fillna(df[\"pr.axis_aspect_ratio\"].mean(), inplace=True)\n",
    "df[\"pr.axis_aspect_ratio\"].isnull().sum()"
   ]
  },
  {
   "cell_type": "code",
   "execution_count": null,
   "metadata": {},
   "outputs": [],
   "source": [
    "df[\"radius_ratio\"] = treat_outlier(df[\"radius_ratio\"])\n",
    "univariateAnalysis_numeric(\"radius_ratio\", 20)"
   ]
  },
  {
   "cell_type": "code",
   "execution_count": null,
   "metadata": {},
   "outputs": [],
   "source": [
    "df.isnull().sum()"
   ]
  },
  {
   "cell_type": "code",
   "execution_count": null,
   "metadata": {},
   "outputs": [],
   "source": [
    "univariateAnalysis_numeric(\"scatter_ratio\", 20)"
   ]
  },
  {
   "cell_type": "code",
   "execution_count": null,
   "metadata": {},
   "outputs": [],
   "source": []
  },
  {
   "cell_type": "code",
   "execution_count": null,
   "metadata": {},
   "outputs": [],
   "source": [
    "df.isnull().sum()"
   ]
  },
  {
   "cell_type": "code",
   "execution_count": null,
   "metadata": {},
   "outputs": [],
   "source": []
  }
 ],
 "metadata": {
  "kernelspec": {
   "display_name": "Python 3",
   "language": "python",
   "name": "python3"
  },
  "language_info": {
   "codemirror_mode": {
    "name": "ipython",
    "version": 3
   },
   "file_extension": ".py",
   "mimetype": "text/x-python",
   "name": "python",
   "nbconvert_exporter": "python",
   "pygments_lexer": "ipython3",
   "version": "3.8.5"
  }
 },
 "nbformat": 4,
 "nbformat_minor": 4
}
